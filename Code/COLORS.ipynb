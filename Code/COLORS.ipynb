{
  "nbformat": 4,
  "nbformat_minor": 0,
  "metadata": {
    "colab": {
      "name": "COLORS.ipynb",
      "provenance": [],
      "collapsed_sections": []
    },
    "kernelspec": {
      "name": "python3",
      "display_name": "Python 3"
    },
    "language_info": {
      "name": "python"
    },
    "widgets": {
      "application/vnd.jupyter.widget-state+json": {
        "2c701a2a7a274dc3a8583a4735161726": {
          "model_module": "@jupyter-widgets/controls",
          "model_name": "HBoxModel",
          "model_module_version": "1.5.0",
          "state": {
            "_view_name": "HBoxView",
            "_dom_classes": [],
            "_model_name": "HBoxModel",
            "_view_module": "@jupyter-widgets/controls",
            "_model_module_version": "1.5.0",
            "_view_count": null,
            "_view_module_version": "1.5.0",
            "box_style": "",
            "layout": "IPY_MODEL_6658dffa6d3643ab9110a0fd0b1670ae",
            "_model_module": "@jupyter-widgets/controls",
            "children": [
              "IPY_MODEL_97728b0efd244028837f10df8d733754"
            ]
          }
        },
        "6658dffa6d3643ab9110a0fd0b1670ae": {
          "model_module": "@jupyter-widgets/base",
          "model_name": "LayoutModel",
          "model_module_version": "1.2.0",
          "state": {
            "_view_name": "LayoutView",
            "grid_template_rows": null,
            "right": null,
            "justify_content": null,
            "_view_module": "@jupyter-widgets/base",
            "overflow": null,
            "_model_module_version": "1.2.0",
            "_view_count": null,
            "flex_flow": null,
            "width": null,
            "min_width": null,
            "border": null,
            "align_items": null,
            "bottom": null,
            "_model_module": "@jupyter-widgets/base",
            "top": null,
            "grid_column": null,
            "overflow_y": null,
            "overflow_x": null,
            "grid_auto_flow": null,
            "grid_area": null,
            "grid_template_columns": null,
            "flex": null,
            "_model_name": "LayoutModel",
            "justify_items": null,
            "grid_row": null,
            "max_height": null,
            "align_content": null,
            "visibility": null,
            "align_self": null,
            "height": null,
            "min_height": null,
            "padding": null,
            "grid_auto_rows": null,
            "grid_gap": null,
            "max_width": null,
            "order": null,
            "_view_module_version": "1.2.0",
            "grid_template_areas": null,
            "object_position": null,
            "object_fit": null,
            "grid_auto_columns": null,
            "margin": null,
            "display": null,
            "left": null
          }
        },
        "97728b0efd244028837f10df8d733754": {
          "model_module": "@jupyter-widgets/controls",
          "model_name": "FileUploadModel",
          "model_module_version": "1.5.0",
          "state": {
            "_view_name": "FileUploadView",
            "_counter": 1,
            "style": "IPY_MODEL_c1500d2f1c324e028cfd358657cd3816",
            "_dom_classes": [],
            "description": "Escolha uma foto",
            "multiple": false,
            "_model_name": "FileUploadModel",
            "data": [
              null
            ],
            "button_style": "",
            "_view_module": "@jupyter-widgets/controls",
            "_model_module_version": "1.5.0",
            "accept": ".png",
            "_view_count": null,
            "disabled": false,
            "_view_module_version": "1.5.0",
            "error": "",
            "description_tooltip": null,
            "metadata": [
              {
                "name": "1637955171090.png",
                "type": "image/png",
                "size": 3313426,
                "lastModified": 1642957959078
              }
            ],
            "_model_module": "@jupyter-widgets/controls",
            "layout": "IPY_MODEL_d121d1b38cc442b99e521c93b2c7775b",
            "icon": "upload"
          }
        },
        "c1500d2f1c324e028cfd358657cd3816": {
          "model_module": "@jupyter-widgets/controls",
          "model_name": "ButtonStyleModel",
          "model_module_version": "1.5.0",
          "state": {
            "_view_name": "StyleView",
            "_model_name": "ButtonStyleModel",
            "_view_module": "@jupyter-widgets/base",
            "_model_module_version": "1.5.0",
            "_view_count": null,
            "button_color": null,
            "font_weight": "",
            "_view_module_version": "1.2.0",
            "_model_module": "@jupyter-widgets/controls"
          }
        },
        "d121d1b38cc442b99e521c93b2c7775b": {
          "model_module": "@jupyter-widgets/base",
          "model_name": "LayoutModel",
          "model_module_version": "1.2.0",
          "state": {
            "_view_name": "LayoutView",
            "grid_template_rows": null,
            "right": null,
            "justify_content": null,
            "_view_module": "@jupyter-widgets/base",
            "overflow": null,
            "_model_module_version": "1.2.0",
            "_view_count": null,
            "flex_flow": null,
            "width": null,
            "min_width": null,
            "border": null,
            "align_items": null,
            "bottom": null,
            "_model_module": "@jupyter-widgets/base",
            "top": null,
            "grid_column": null,
            "overflow_y": null,
            "overflow_x": null,
            "grid_auto_flow": null,
            "grid_area": null,
            "grid_template_columns": null,
            "flex": null,
            "_model_name": "LayoutModel",
            "justify_items": null,
            "grid_row": null,
            "max_height": null,
            "align_content": null,
            "visibility": null,
            "align_self": null,
            "height": null,
            "min_height": null,
            "padding": null,
            "grid_auto_rows": null,
            "grid_gap": null,
            "max_width": null,
            "order": null,
            "_view_module_version": "1.2.0",
            "grid_template_areas": null,
            "object_position": null,
            "object_fit": null,
            "grid_auto_columns": null,
            "margin": null,
            "display": null,
            "left": null
          }
        },
        "bf3806e7762b4ffe9072afdc8259d9e0": {
          "model_module": "@jupyter-widgets/controls",
          "model_name": "ButtonModel",
          "model_module_version": "1.5.0",
          "state": {
            "_view_name": "ButtonView",
            "style": "IPY_MODEL_ccd267d8c53d47888335aa850acaea7d",
            "_dom_classes": [],
            "description": "Clique  para ver a nota",
            "_model_name": "ButtonModel",
            "button_style": "",
            "_view_module": "@jupyter-widgets/controls",
            "_model_module_version": "1.5.0",
            "tooltip": "",
            "_view_count": null,
            "disabled": false,
            "_view_module_version": "1.5.0",
            "layout": "IPY_MODEL_28808f8ecc3d4598992d121037a96382",
            "_model_module": "@jupyter-widgets/controls",
            "icon": ""
          }
        },
        "ccd267d8c53d47888335aa850acaea7d": {
          "model_module": "@jupyter-widgets/controls",
          "model_name": "ButtonStyleModel",
          "model_module_version": "1.5.0",
          "state": {
            "_view_name": "StyleView",
            "_model_name": "ButtonStyleModel",
            "_view_module": "@jupyter-widgets/base",
            "_model_module_version": "1.5.0",
            "_view_count": null,
            "button_color": null,
            "font_weight": "",
            "_view_module_version": "1.2.0",
            "_model_module": "@jupyter-widgets/controls"
          }
        },
        "28808f8ecc3d4598992d121037a96382": {
          "model_module": "@jupyter-widgets/base",
          "model_name": "LayoutModel",
          "model_module_version": "1.2.0",
          "state": {
            "_view_name": "LayoutView",
            "grid_template_rows": null,
            "right": null,
            "justify_content": null,
            "_view_module": "@jupyter-widgets/base",
            "overflow": null,
            "_model_module_version": "1.2.0",
            "_view_count": null,
            "flex_flow": null,
            "width": null,
            "min_width": null,
            "border": null,
            "align_items": null,
            "bottom": null,
            "_model_module": "@jupyter-widgets/base",
            "top": null,
            "grid_column": null,
            "overflow_y": null,
            "overflow_x": null,
            "grid_auto_flow": null,
            "grid_area": null,
            "grid_template_columns": null,
            "flex": null,
            "_model_name": "LayoutModel",
            "justify_items": null,
            "grid_row": null,
            "max_height": null,
            "align_content": null,
            "visibility": null,
            "align_self": null,
            "height": null,
            "min_height": null,
            "padding": null,
            "grid_auto_rows": null,
            "grid_gap": null,
            "max_width": null,
            "order": null,
            "_view_module_version": "1.2.0",
            "grid_template_areas": null,
            "object_position": null,
            "object_fit": null,
            "grid_auto_columns": null,
            "margin": null,
            "display": null,
            "left": null
          }
        }
      }
    }
  },
  "cells": [
    {
      "cell_type": "markdown",
      "source": [
        "**Importações**"
      ],
      "metadata": {
        "id": "qV1vNHnfFXCB"
      }
    },
    {
      "cell_type": "code",
      "execution_count": null,
      "metadata": {
        "id": "0GzWBw2NVtHQ"
      },
      "outputs": [],
      "source": [
        "import numpy as np\n",
        "import pandas as pd\n",
        "import matplotlib.pyplot as plt\n",
        "import cv2\n",
        "import tensorflow as tf\n",
        "from tensorflow.keras.models import load_model\n",
        "import colorsys\n",
        "import io\n",
        "from ipywidgets import widgets, HBox, VBox\n",
        "from IPython.display import display\n",
        "from PIL import Image"
      ]
    },
    {
      "cell_type": "markdown",
      "source": [
        "**Aplicação**"
      ],
      "metadata": {
        "id": "YKYTMz8bFaRB"
      }
    },
    {
      "cell_type": "code",
      "source": [
        "class Coloras:\n",
        "  def __init__(self,image_path):\n",
        "    self.image_path = image_path\n",
        "  # Faz uma máscara da roupa da imagem original\n",
        "  def pred_mask(self):\n",
        "    self.image_size = 256\n",
        "    model = load_model('/content/drive/Shareddrives/RAS_Colors/Modelo - DeepLab/deep_lab_final.h5')\n",
        "    model.load_weights('/content/drive/Shareddrives/RAS_Colors/Pesos - DeepLab/Pesos - Deep Lab/best_model_deep (7).h5')\n",
        "    image = tf.io.read_file(self.image_path)\n",
        "    image = tf.image.decode_png(image, channels=3)\n",
        "    image.set_shape([None, None, 3])\n",
        "    image = tf.image.resize(images=image, size=[self.image_size, self.image_size])\n",
        "    image = image / 127.5 - 1\n",
        "    self.prediction = model.predict(np.expand_dims((image), axis=0))\n",
        "    self.prediction = np.squeeze(self.prediction)\n",
        "    self.prediction = np.argmax(self.prediction, axis=2)\n",
        "    return self.prediction\n",
        "  # Recorta a roupa da imagem original com base na máscara\n",
        "  def crop_img(self):\n",
        "    self.img = cv2.imread(self.image_path)\n",
        "    try:\n",
        "      mask = self.prediction.astype(np.uint8)\n",
        "      self.img = cv2.cvtColor(self.img,cv2.COLOR_BGR2RGB)\n",
        "      self.img = cv2.resize(self.img,(self.image_size,self.image_size))\n",
        "      mask = np.expand_dims(mask, axis=-1)\n",
        "      ret, mask = cv2.threshold(mask, 10, 255, cv2.THRESH_BINARY)\n",
        "      mask_inv = cv2.bitwise_not(mask)\n",
        "      self.img_crop = cv2.bitwise_and(self.img,self.img,mask = mask_inv)\n",
        "      return self.img_crop\n",
        "    except AttributeError:\n",
        "      print('Por favor use a função pred_mask antes de usar a crop_img')\n",
        "  # Mostra as duas cores dominantes da roupa\n",
        "  def two_predominant_colors(self):\n",
        "    img = self.img_crop\n",
        "    img = cv2.blur(img,(80,4))\n",
        "    (r,g,b) = img[90,120] #pega o pixel\n",
        "    img [88:92, 118:122] = (255,255,255) # coloca o ponto\n",
        "    (r1,g1,b1) = img[173,123]\n",
        "    img[170:175, 100:105] = (255,0,255)\n",
        "    self.cor1_rgb = [r,g,b]\n",
        "    self.cor2_rgb = [r1,g1,b1]\n",
        "    r,g,b = r/255,g/255,b/255\n",
        "    r1,g1,b1 = r1/255,g1/255,b1/255\n",
        "    self.hsv = colorsys.rgb_to_hsv(r,g,b)\n",
        "    self.hsv2 = colorsys.rgb_to_hsv(r1,g1,b1)\n",
        "    h1 = self.hsv[0]\n",
        "    h2 = self.hsv2[0]\n",
        "    self.colors = [[h1,h2]]\n",
        "    return self.colors\n",
        "  def score(self):\n",
        "    self.model_score = load_model('/content/drive/Shareddrives/RAS_Colors/Score/score (1).h5')\n",
        "    self.model_score.load_weights('/content/drive/Shareddrives/RAS_Colors/Score/pesos (1).h5')\n",
        "    self.scoring = self.model_score.predict(self.colors)\n",
        "    return self.scoring\n",
        "    "
      ],
      "metadata": {
        "id": "3NX0J4LOWP4m"
      },
      "execution_count": null,
      "outputs": []
    },
    {
      "cell_type": "markdown",
      "source": [
        "**Criando a interface**"
      ],
      "metadata": {
        "id": "j5hzoN5XFf0C"
      }
    },
    {
      "cell_type": "code",
      "source": [
        "uploader = widgets.FileUpload(accept='.png',description = 'Escolha uma foto')\n",
        "botao = VBox([uploader])\n",
        "inputs = HBox([uploader])\n",
        "\n",
        "def scoring(sender):\n",
        "  for name,file_info in uploader.value.items():\n",
        "    name = name\n",
        "  app = Coloras(name)\n",
        "  app.pred_mask()\n",
        "  app.crop_img()\n",
        "  app.two_predominant_colors()\n",
        "  score = app.score()\n",
        "  if score > 3:\n",
        "    print( \"\\033[0;32m\" +  '         {:.1f}'.format(score[0][0]))\n",
        "  else:\n",
        "    print( \"\\033[1;31m\" +  '         {:.1f}'.format(score[0][0]))\n",
        "\n",
        "  \n",
        "botao = widgets.Button(description=\"Clique  para ver a nota\")\n",
        "botao.on_click(scoring)\n"
      ],
      "metadata": {
        "id": "kjBthsAtlKft"
      },
      "execution_count": null,
      "outputs": []
    },
    {
      "cell_type": "code",
      "source": [
        "display(inputs,botao)"
      ],
      "metadata": {
        "colab": {
          "base_uri": "https://localhost:8080/",
          "height": 98,
          "referenced_widgets": [
            "2c701a2a7a274dc3a8583a4735161726",
            "6658dffa6d3643ab9110a0fd0b1670ae",
            "97728b0efd244028837f10df8d733754",
            "c1500d2f1c324e028cfd358657cd3816",
            "d121d1b38cc442b99e521c93b2c7775b",
            "bf3806e7762b4ffe9072afdc8259d9e0",
            "ccd267d8c53d47888335aa850acaea7d",
            "28808f8ecc3d4598992d121037a96382"
          ]
        },
        "id": "MIhX_pi5mmiH",
        "outputId": "79cde48d-078f-45c8-9566-30c1814a86d1"
      },
      "execution_count": null,
      "outputs": [
        {
          "output_type": "display_data",
          "data": {
            "application/vnd.jupyter.widget-view+json": {
              "model_id": "2c701a2a7a274dc3a8583a4735161726",
              "version_minor": 0,
              "version_major": 2
            },
            "text/plain": [
              "HBox(children=(FileUpload(value={}, accept='.png', description='Escolha uma foto'),))"
            ]
          },
          "metadata": {}
        },
        {
          "output_type": "display_data",
          "data": {
            "application/vnd.jupyter.widget-view+json": {
              "model_id": "bf3806e7762b4ffe9072afdc8259d9e0",
              "version_minor": 0,
              "version_major": 2
            },
            "text/plain": [
              "Button(description='Clique  para ver a nota', style=ButtonStyle())"
            ]
          },
          "metadata": {}
        },
        {
          "output_type": "stream",
          "name": "stdout",
          "text": [
            "\u001b[0;32m         3.2\n"
          ]
        }
      ]
    }
  ]
}